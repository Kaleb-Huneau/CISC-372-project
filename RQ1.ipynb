{
 "cells": [
  {
   "cell_type": "code",
   "execution_count": 1,
   "metadata": {},
   "outputs": [],
   "source": [
    "import pandas as pd\n",
    "import nltk\n",
    "from nltk.tokenize import word_tokenize\n",
    "from nltk.corpus import stopwords\n",
    "from nltk.sentiment.vader import SentimentIntensityAnalyzer\n",
    "from nltk import pos_tag\n",
    "import os"
   ]
  },
  {
   "cell_type": "code",
   "execution_count": 2,
   "metadata": {},
   "outputs": [
    {
     "name": "stderr",
     "output_type": "stream",
     "text": [
      "[nltk_data] Downloading package stopwords to\n",
      "[nltk_data]     C:\\Users\\tommy\\AppData\\Roaming\\nltk_data...\n",
      "[nltk_data]   Package stopwords is already up-to-date!\n",
      "[nltk_data] Downloading package punkt to\n",
      "[nltk_data]     C:\\Users\\tommy\\AppData\\Roaming\\nltk_data...\n",
      "[nltk_data]   Package punkt is already up-to-date!\n",
      "[nltk_data] Downloading package averaged_perceptron_tagger to\n",
      "[nltk_data]     C:\\Users\\tommy\\AppData\\Roaming\\nltk_data...\n",
      "[nltk_data]   Package averaged_perceptron_tagger is already up-to-\n",
      "[nltk_data]       date!\n",
      "[nltk_data] Downloading package vader_lexicon to\n",
      "[nltk_data]     C:\\Users\\tommy\\AppData\\Roaming\\nltk_data...\n",
      "[nltk_data]   Package vader_lexicon is already up-to-date!\n"
     ]
    },
    {
     "data": {
      "text/plain": [
       "True"
      ]
     },
     "execution_count": 2,
     "metadata": {},
     "output_type": "execute_result"
    }
   ],
   "source": [
    "nltk.download('stopwords')\n",
    "nltk.download('punkt')\n",
    "nltk.download('averaged_perceptron_tagger')\n",
    "nltk.download('vader_lexicon')"
   ]
  },
  {
   "cell_type": "code",
   "execution_count": 19,
   "metadata": {},
   "outputs": [
    {
     "name": "stdout",
     "output_type": "stream",
     "text": [
      "montreal_reviews.csv\n",
      "nyc_reviews.csv\n",
      "toronto_reviews.csv\n"
     ]
    }
   ],
   "source": [
    "# Read the CSV file\n",
    "csv_files_path = \"./../data/CISC 351 Airbnb Data/reviews/\"\n",
    "\n",
    "dfs = []\n",
    "\n",
    "# Loop through each file in the folder\n",
    "for file in os.listdir(csv_files_path):\n",
    "    if file.endswith('.csv') and file != 'processed_reviews.csv' :\n",
    "        print(file)\n",
    "        # Read each CSV file into a DataFrame\n",
    "        combined_df = pd.read_csv(os.path.join(csv_files_path, file))\n",
    "        # Append the DataFrame to the list\n",
    "        dfs.append(combined_df)\n",
    "\n",
    "# Concatenate all DataFrames in the list into one\n",
    "combined_df = pd.concat(dfs, ignore_index=True)"
   ]
  },
  {
   "cell_type": "code",
   "execution_count": 22,
   "metadata": {},
   "outputs": [],
   "source": [
    "stop_words = set(stopwords.words('english'))\n",
    "\n",
    "# Initialize sentiment analyzer\n",
    "analyzer = SentimentIntensityAnalyzer()"
   ]
  },
  {
   "cell_type": "code",
   "execution_count": 23,
   "metadata": {},
   "outputs": [],
   "source": [
    "def remove_non_alphanumeric(text):\n",
    "    if type(text) is str:\n",
    "        return ''.join(char for char in text if char.isalnum() or char.isspace())"
   ]
  },
  {
   "cell_type": "code",
   "execution_count": 24,
   "metadata": {},
   "outputs": [],
   "source": [
    "combined_df['processed_comments'] = combined_df['comments'].apply(lambda x: remove_non_alphanumeric(x))\n",
    "combined_df['processed_comments'] = combined_df['processed_comments'].dropna()"
   ]
  },
  {
   "cell_type": "code",
   "execution_count": 25,
   "metadata": {},
   "outputs": [],
   "source": [
    "# Function to tokenize a review and remove stop words\n",
    "def tokenize_and_remove_stopwords(review):\n",
    "    review = str(review)\n",
    "    tokens = word_tokenize(review.lower())\n",
    "    return [token for token in tokens if token.isalpha() and token not in stop_words]"
   ]
  },
  {
   "cell_type": "code",
   "execution_count": 26,
   "metadata": {},
   "outputs": [],
   "source": [
    "def remove_adjectives(words_list):\n",
    "    tagged_words = pos_tag(words_list)\n",
    "    return [word for word, pos in tagged_words if pos != 'JJ']  # Filter out adjectives"
   ]
  },
  {
   "cell_type": "code",
   "execution_count": 27,
   "metadata": {},
   "outputs": [],
   "source": [
    "filler_words = ['place', 'stay', 'location', 'would', 'everything', 'definitely', 'well', 'us', 'really', 'also', 'time', 'highly', \n",
    "                'amazing', 'like', 'needed', 'back', 'city', 'staying', 'made', 'check', 'one', 'lovely', 'get', 'close', 'even',\n",
    "                'best', 'loved' 'away', 'enjoyed', 'recommend', 'need', 'around', 'away', 'loved', 'felt', 'could', 'super', 'always',\n",
    "                'perfect', 'stayed', 'kind', 'day', 'night', 'thank', 'airbnb', 'two', 'questions', 'come']\n",
    "\n",
    "def remove_filler_words(tokens):\n",
    "    return [token for token in tokens if token not in filler_words]"
   ]
  },
  {
   "cell_type": "code",
   "execution_count": 28,
   "metadata": {},
   "outputs": [],
   "source": [
    "# # Tokenize and remove stop words for each review\n",
    "combined_df['tokens'] = combined_df['processed_comments'].apply(tokenize_and_remove_stopwords)\n",
    "combined_df['tokens'] = combined_df['tokens'].apply(remove_adjectives)\n",
    "combined_df['tokens'] = combined_df['tokens'].apply(remove_filler_words)\n",
    "combined_df['tokens'] = combined_df['tokens'].dropna()"
   ]
  },
  {
   "cell_type": "code",
   "execution_count": 29,
   "metadata": {},
   "outputs": [],
   "source": [
    "combined_df['sentiment'] = combined_df['processed_comments'].apply(lambda x: analyzer.polarity_scores(str(x))['compound'])"
   ]
  },
  {
   "cell_type": "code",
   "execution_count": 30,
   "metadata": {},
   "outputs": [],
   "source": [
    "combined_df.to_csv(os.path.join(csv_files_path, \"processed_reviews.csv\"))"
   ]
  },
  {
   "cell_type": "code",
   "execution_count": 31,
   "metadata": {},
   "outputs": [],
   "source": [
    "# Define a function to count the occurrences of words in positive and negative reviews\n",
    "def count_positive_word_sentiment(df, word_counts, threshold):\n",
    "    for tokens, sentiment in zip(df['tokens'], df['sentiment']):\n",
    "        if sentiment > threshold:\n",
    "            for word in tokens: \n",
    "                word_counts[word] += abs(sentiment)\n",
    "    \n",
    "    return word_counts\n",
    "\n",
    "def count_negative_word_sentiment(df, word_counts, threshold):\n",
    "    for tokens, sentiment in zip(df['tokens'], df['sentiment']):\n",
    "        if sentiment < threshold:\n",
    "            for word in tokens: \n",
    "                word_counts[word] += abs(sentiment)\n",
    "    \n",
    "    return word_counts"
   ]
  },
  {
   "cell_type": "code",
   "execution_count": 32,
   "metadata": {},
   "outputs": [],
   "source": [
    "all_words = []\n",
    "for tokens in combined_df['tokens']:\n",
    "    try:\n",
    "        all_words.extend(tokens)\n",
    "    except:\n",
    "        pass\n",
    "\n",
    "all_words_set = set(all_words)\n",
    "word_counts = {key: 0 for key in all_words_set}"
   ]
  },
  {
   "cell_type": "code",
   "execution_count": 33,
   "metadata": {},
   "outputs": [
    {
     "name": "stdout",
     "output_type": "stream",
     "text": [
      "apartment: 261425.24149998635\n",
      "host: 248231.78019998866\n",
      "recommend: 171322.036099991\n",
      "room: 144978.05369999688\n",
      "home: 131046.1038999964\n",
      "space: 119425.99969999732\n",
      "restaurants: 109917.97099999957\n",
      "walk: 92401.52059999944\n",
      "area: 91972.14849999748\n",
      "subway: 90658.99860000069\n",
      "neighborhood: 80236.05429999971\n",
      "house: 79906.57359999814\n",
      "need: 75744.24319999943\n",
      "bed: 74986.03359999866\n",
      "around: 70543.6617999995\n",
      "kitchen: 68773.24629999953\n",
      "hosts: 67954.31029999875\n",
      "away: 67950.63509999901\n",
      "loved: 66966.19689999963\n",
      "walking: 65617.61029999894\n",
      "experience: 65038.15929999924\n",
      "felt: 64816.08089999944\n",
      "street: 61506.49759999972\n",
      "could: 59341.888899999496\n",
      "clean: 58976.251699999295\n",
      "communication: 58298.457899997564\n",
      "located: 57240.79559999915\n",
      "toronto: 57146.3404999982\n",
      "parking: 55111.700499999315\n",
      "bathroom: 53352.78390000033\n",
      "super: 53217.59779999766\n",
      "always: 52935.85079999933\n",
      "perfect: 52204.36859999925\n",
      "night: 51238.09310000061\n",
      "stayed: 51062.17369999963\n",
      "distance: 50130.986099999755\n",
      "kind: 49908.702900000484\n",
      "family: 49692.30219999923\n",
      "feel: 48963.200999999746\n",
      "day: 48479.2473999998\n",
      "thank: 48200.664599999036\n",
      "airbnb: 47914.74489999988\n",
      "two: 47354.434099999424\n",
      "station: 46883.058799999766\n",
      "thanks: 45948.469799999395\n",
      "questions: 43757.435599999466\n",
      "come: 43537.48749999981\n",
      "access: 43051.044299999994\n",
      "park: 42658.35289999955\n",
      "accommodating: 42351.02119999985\n"
     ]
    }
   ],
   "source": [
    "# Calculate the correlation between each word and sentiment\n",
    "correlation_matrix = pd.DataFrame(index=all_words, columns=['Positive', 'Negative'])\n",
    "word_counts = count_positive_word_sentiment(combined_df, word_counts, 0.9)\n",
    "word_counts = count_negative_word_sentiment(combined_df, word_counts, -0.5) \n",
    "sorted_dict = dict(sorted(word_counts.items(), key=lambda item: item[1], reverse=True))\n",
    "\n",
    "# Print the top 50 items\n",
    "for idx, (key, value) in enumerate(sorted_dict.items()):\n",
    "    if idx < 50:\n",
    "        print(f'{key}: {value}')\n",
    "    else:\n",
    "        break"
   ]
  }
 ],
 "metadata": {
  "kernelspec": {
   "display_name": "Python 3",
   "language": "python",
   "name": "python3"
  },
  "language_info": {
   "codemirror_mode": {
    "name": "ipython",
    "version": 3
   },
   "file_extension": ".py",
   "mimetype": "text/x-python",
   "name": "python",
   "nbconvert_exporter": "python",
   "pygments_lexer": "ipython3",
   "version": "3.11.2"
  }
 },
 "nbformat": 4,
 "nbformat_minor": 2
}
