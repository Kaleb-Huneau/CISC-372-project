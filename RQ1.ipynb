{
 "cells": [
  {
   "cell_type": "code",
   "execution_count": 1,
   "metadata": {},
   "outputs": [],
   "source": [
    "import pandas as pd\n",
    "import nltk\n",
    "from nltk.tokenize import word_tokenize\n",
    "from nltk.corpus import stopwords\n",
    "from vaderSentiment.vaderSentiment import SentimentIntensityAnalyzer\n",
    "from nltk import pos_tag"
   ]
  },
  {
   "cell_type": "code",
   "execution_count": 2,
   "metadata": {},
   "outputs": [
    {
     "name": "stderr",
     "output_type": "stream",
     "text": [
      "[nltk_data] Downloading package stopwords to\n",
      "[nltk_data]     C:\\Users\\tommy\\AppData\\Roaming\\nltk_data...\n",
      "[nltk_data]   Package stopwords is already up-to-date!\n",
      "[nltk_data] Downloading package punkt to\n",
      "[nltk_data]     C:\\Users\\tommy\\AppData\\Roaming\\nltk_data...\n",
      "[nltk_data]   Package punkt is already up-to-date!\n",
      "[nltk_data] Downloading package averaged_perceptron_tagger to\n",
      "[nltk_data]     C:\\Users\\tommy\\AppData\\Roaming\\nltk_data...\n",
      "[nltk_data]   Package averaged_perceptron_tagger is already up-to-\n",
      "[nltk_data]       date!\n"
     ]
    },
    {
     "data": {
      "text/plain": [
       "True"
      ]
     },
     "execution_count": 2,
     "metadata": {},
     "output_type": "execute_result"
    }
   ],
   "source": [
    "nltk.download('stopwords')\n",
    "nltk.download('punkt')\n",
    "nltk.download('averaged_perceptron_tagger')"
   ]
  },
  {
   "cell_type": "code",
   "execution_count": 3,
   "metadata": {},
   "outputs": [],
   "source": [
    "# Read the CSV file\n",
    "csv_file_path = \"./../data/CISC 351 Airbnb Data/TO Detailed Reviews CISC 351.csv\"\n",
    "df = pd.read_csv(csv_file_path)"
   ]
  },
  {
   "cell_type": "code",
   "execution_count": 4,
   "metadata": {},
   "outputs": [],
   "source": [
    "stop_words = set(stopwords.words('english'))"
   ]
  },
  {
   "cell_type": "code",
   "execution_count": 5,
   "metadata": {},
   "outputs": [],
   "source": [
    "# Initialize sentiment analyzer\n",
    "analyzer = SentimentIntensityAnalyzer()"
   ]
  },
  {
   "cell_type": "code",
   "execution_count": 6,
   "metadata": {},
   "outputs": [],
   "source": [
    "def remove_non_alphanumeric(text):\n",
    "    if type(text) is str:\n",
    "        return ''.join(char for char in text if char.isalnum() or char.isspace())"
   ]
  },
  {
   "cell_type": "code",
   "execution_count": 7,
   "metadata": {},
   "outputs": [],
   "source": [
    "df['processed_comments'] = df['comments'].apply(lambda x: remove_non_alphanumeric(x))"
   ]
  },
  {
   "cell_type": "code",
   "execution_count": 8,
   "metadata": {},
   "outputs": [],
   "source": [
    "# Function to tokenize a review and remove stop words\n",
    "def tokenize_and_remove_stopwords(review):\n",
    "    review = str(review)\n",
    "    tokens = word_tokenize(review.lower())\n",
    "    return [token for token in tokens if token.isalpha() and token not in stop_words]"
   ]
  },
  {
   "cell_type": "code",
   "execution_count": 9,
   "metadata": {},
   "outputs": [],
   "source": [
    "def remove_adjectives(words_list):\n",
    "    tagged_words = pos_tag(words_list)\n",
    "    return [word for word, pos in tagged_words if pos != 'JJ']  # Filter out adjectives"
   ]
  },
  {
   "cell_type": "code",
   "execution_count": 10,
   "metadata": {},
   "outputs": [],
   "source": [
    "# # Tokenize and remove stop words for each review\n",
    "df['processed_comments'] = df['processed_comments'].dropna()\n",
    "df['tokens'] = df['processed_comments'].apply(tokenize_and_remove_stopwords)\n",
    "df['tokens'] = df['tokens'].apply(remove_adjectives)\n",
    "df['sentiment'] = df['processed_comments'].apply(lambda x: analyzer.polarity_scores(x)['compound'])"
   ]
  },
  {
   "cell_type": "code",
   "execution_count": null,
   "metadata": {},
   "outputs": [],
   "source": [
    "# Define a function to count the occurrences of words in positive and negative reviews\n",
    "def count_word_sentiment(df, threshold, word_counts):\n",
    "    for tokens, sentiment in zip(df['tokens'], df['sentiment']):\n",
    "        if sentiment > threshold:\n",
    "            for word in tokens: \n",
    "                word_counts[word] += 1\n",
    "    \n",
    "    return word_counts"
   ]
  },
  {
   "cell_type": "code",
   "execution_count": null,
   "metadata": {},
   "outputs": [],
   "source": [
    "all_words = []\n",
    "for tokens in df['tokens']:\n",
    "    try:\n",
    "        all_words.extend(tokens)\n",
    "    except:\n",
    "        pass\n",
    "\n",
    "all_words_set = set(all_words)\n",
    "positive_counts = {key: 0 for key in all_words_set}"
   ]
  },
  {
   "cell_type": "code",
   "execution_count": null,
   "metadata": {},
   "outputs": [
    {
     "name": "stdout",
     "output_type": "stream",
     "text": [
      "larry: 32\n",
      "toronto: 28\n",
      "kathie: 28\n",
      "room: 23\n",
      "stay: 23\n",
      "br: 22\n",
      "view: 19\n",
      "place: 19\n",
      "us: 18\n",
      "would: 13\n",
      "home: 13\n",
      "location: 13\n",
      "time: 13\n",
      "tower: 10\n",
      "cn: 9\n",
      "well: 9\n",
      "hosts: 9\n",
      "city: 9\n",
      "also: 9\n",
      "one: 8\n",
      "everything: 8\n",
      "apartment: 8\n",
      "highly: 8\n",
      "really: 8\n",
      "could: 7\n",
      "enjoyed: 7\n",
      "experience: 7\n",
      "staying: 7\n",
      "people: 7\n",
      "feel: 6\n",
      "thanks: 6\n",
      "welcoming: 6\n",
      "kind: 6\n",
      "recommend: 6\n",
      "amazing: 6\n",
      "distance: 6\n",
      "love: 5\n",
      "amenities: 5\n",
      "floor: 5\n",
      "breakfast: 5\n",
      "make: 5\n",
      "walking: 5\n",
      "life: 4\n",
      "loved: 4\n",
      "pool: 4\n",
      "host: 4\n",
      "conversation: 4\n",
      "visit: 4\n",
      "bri: 4\n",
      "access: 4\n"
     ]
    }
   ],
   "source": [
    "# Calculate the correlation between each word and sentiment\n",
    "correlation_matrix = pd.DataFrame(index=all_words, columns=['Positive', 'Negative'])\n",
    "positive_counts = count_word_sentiment(df, 0.9, positive_counts) \n",
    "sorted_dict = dict(sorted(positive_counts.items(), key=lambda item: item[1], reverse=True))\n",
    "\n",
    "# Print the top 50 items\n",
    "for idx, (key, value) in enumerate(sorted_dict.items()):\n",
    "    if idx < 50:\n",
    "        print(f'{key}: {value}')\n",
    "    else:\n",
    "        break\n",
    "\n",
    "# for word in all_words_set:\n",
    "#     positive_count = count_word_sentiment(word, 1, 0.9)\n",
    "#     negative_count = count_word_sentiment(word, -1)\n",
    "#     correlation_matrix.loc[word] = [positive_count, negative_count]\n",
    "\n",
    "# # Normalize the counts by dividing by the total number of positive and negative reviews\n",
    "# correlation_matrix['Positive'] /= sum(df['sentiment'] > 0)\n",
    "# correlation_matrix['Negative'] /= sum(df['sentiment'] < 0)\n",
    "\n",
    "# # Output the correlation matrix\n",
    "# print(correlation_matrix)"
   ]
  }
 ],
 "metadata": {
  "kernelspec": {
   "display_name": "Python 3",
   "language": "python",
   "name": "python3"
  },
  "language_info": {
   "codemirror_mode": {
    "name": "ipython",
    "version": 3
   },
   "file_extension": ".py",
   "mimetype": "text/x-python",
   "name": "python",
   "nbconvert_exporter": "python",
   "pygments_lexer": "ipython3",
   "version": "3.11.4"
  }
 },
 "nbformat": 4,
 "nbformat_minor": 2
}
